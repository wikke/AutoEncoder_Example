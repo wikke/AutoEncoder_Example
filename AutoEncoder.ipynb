{
 "cells": [
  {
   "cell_type": "code",
   "execution_count": 58,
   "metadata": {},
   "outputs": [
    {
     "name": "stdout",
     "output_type": "stream",
     "text": [
      "2.0.4\n"
     ]
    }
   ],
   "source": [
    "import numpy as np\n",
    "\n",
    "import keras\n",
    "from keras.models import Model\n",
    "from keras.layers import Input, Dense, Conv2D, MaxPooling2D, UpSampling2D\n",
    "from keras.datasets import mnist\n",
    "\n",
    "import matplotlib.pyplot as plt\n",
    "%matplotlib inline\n",
    "\n",
    "print (keras.__version__)"
   ]
  },
  {
   "cell_type": "code",
   "execution_count": 66,
   "metadata": {},
   "outputs": [
    {
     "name": "stdout",
     "output_type": "stream",
     "text": [
      "_________________________________________________________________\n",
      "Layer (type)                 Output Shape              Param #   \n",
      "=================================================================\n",
      "input_19 (InputLayer)        (None, 784)               0         \n",
      "_________________________________________________________________\n",
      "dense_23 (Dense)             (None, 128)               100480    \n",
      "_________________________________________________________________\n",
      "dense_24 (Dense)             (None, 32)                4128      \n",
      "_________________________________________________________________\n",
      "dense_25 (Dense)             (None, 128)               4224      \n",
      "_________________________________________________________________\n",
      "dense_26 (Dense)             (None, 784)               101136    \n",
      "=================================================================\n",
      "Total params: 209,968\n",
      "Trainable params: 209,968\n",
      "Non-trainable params: 0\n",
      "_________________________________________________________________\n"
     ]
    }
   ],
   "source": [
    "ipt = Input(shape=(28*28, ))\n",
    "encoded = Dense(128, activation='relu')(ipt)\n",
    "encoded = Dense(32, activation='relu')(encoded) #activity_regularizer=regularizers.l1(10e-5)\n",
    "decoded = Dense(128, activation='relu')(encoded)\n",
    "decoded = Dense(28*28, activation='sigmoid')(decoded)\n",
    "auto_encoder_fc = Model(ipt, decoded)\n",
    "auto_encoder_fc.compile(optimizer='adadelta', loss='binary_crossentropy')\n",
    "auto_encoder_fc.summary()\n",
    "\n",
    "encoder_fc = Model(ipt, encoded)\n",
    "\n",
    "# decoder needs a new Input()\n",
    "d_ipt = Input(shape=(32,))\n",
    "# decoded is a 'value' while auto_encoder_fc.layers[-1] is a layer\n",
    "d1, d2 = auto_encoder_fc.layers[-1], auto_encoder_fc.layers[-2]\n",
    "decoder_fc = Model(d_ipt, d1(d2(d_ipt)))"
   ]
  },
  {
   "cell_type": "code",
   "execution_count": 67,
   "metadata": {},
   "outputs": [
    {
     "name": "stdout",
     "output_type": "stream",
     "text": [
      "_________________________________________________________________\n",
      "Layer (type)                 Output Shape              Param #   \n",
      "=================================================================\n",
      "input_21 (InputLayer)        (None, 28, 28, 1)         0         \n",
      "_________________________________________________________________\n",
      "conv2d_21 (Conv2D)           (None, 28, 28, 32)        320       \n",
      "_________________________________________________________________\n",
      "max_pooling2d_9 (MaxPooling2 (None, 14, 14, 32)        0         \n",
      "_________________________________________________________________\n",
      "conv2d_22 (Conv2D)           (None, 14, 14, 8)         2312      \n",
      "_________________________________________________________________\n",
      "max_pooling2d_10 (MaxPooling (None, 7, 7, 8)           0         \n",
      "_________________________________________________________________\n",
      "conv2d_23 (Conv2D)           (None, 7, 7, 8)           584       \n",
      "_________________________________________________________________\n",
      "up_sampling2d_9 (UpSampling2 (None, 14, 14, 8)         0         \n",
      "_________________________________________________________________\n",
      "conv2d_24 (Conv2D)           (None, 14, 14, 32)        2336      \n",
      "_________________________________________________________________\n",
      "up_sampling2d_10 (UpSampling (None, 28, 28, 32)        0         \n",
      "_________________________________________________________________\n",
      "conv2d_25 (Conv2D)           (None, 28, 28, 1)         289       \n",
      "=================================================================\n",
      "Total params: 5,841\n",
      "Trainable params: 5,841\n",
      "Non-trainable params: 0\n",
      "_________________________________________________________________\n"
     ]
    }
   ],
   "source": [
    "ipt = Input(shape=(28, 28, 1))\n",
    "x = Conv2D(32, (3, 3), strides=1, activation='relu', padding='same')(ipt)\n",
    "x = MaxPooling2D((2, 2), padding='same')(x)\n",
    "x = Conv2D(8, (3, 3), strides=1, activation='relu', padding='same')(x)\n",
    "encoded = MaxPooling2D((2, 2), padding='same')(x)\n",
    "\n",
    "\n",
    "x = Conv2D(8, (3, 3), strides=1, activation='relu', padding='same')(encoded)\n",
    "x = UpSampling2D((2, 2))(x)\n",
    "x = Conv2D(32, (3, 3), strides=1, activation='relu', padding='same')(x)\n",
    "x = UpSampling2D((2, 2))(x)\n",
    "decoded = Conv2D(1, (3, 3), strides=1, activation='relu', padding='same')(x)\n",
    "\n",
    "auto_encoder_conv = Model(ipt, decoded)\n",
    "auto_encoder_conv.compile(optimizer='adadelta', loss='binary_crossentropy')\n",
    "auto_encoder_conv.summary()\n",
    "\n",
    "encoder_conv = Model(ipt, encoded)\n",
    "\n",
    "# decoder needs a new Input()\n",
    "ipt = Input(shape=(7,7,8))\n",
    "# decoded is a 'value' while auto_encoder_fc.layers[-1] is a layer\n",
    "decoded = auto_encoder_conv.layers[-5](ipt)\n",
    "decoded = auto_encoder_conv.layers[-4](decoded)\n",
    "decoded = auto_encoder_conv.layers[-3](decoded)\n",
    "decoded = auto_encoder_conv.layers[-2](decoded)\n",
    "decoded = auto_encoder_conv.layers[-1](decoded)\n",
    "decoder_conv = Model(ipt, decoded)"
   ]
  },
  {
   "cell_type": "code",
   "execution_count": 55,
   "metadata": {},
   "outputs": [
    {
     "name": "stdout",
     "output_type": "stream",
     "text": [
      "Train on 60000 samples, validate on 10000 samples\n",
      "Epoch 1/4\n",
      "60000/60000 [==============================] - 12s - loss: 0.2953 - val_loss: 0.2433\n",
      "Epoch 2/4\n",
      "60000/60000 [==============================] - 11s - loss: 0.2151 - val_loss: 0.1962\n",
      "Epoch 3/4\n",
      "60000/60000 [==============================] - 11s - loss: 0.1871 - val_loss: 0.1763\n",
      "Epoch 4/4\n",
      "60000/60000 [==============================] - 10s - loss: 0.1695 - val_loss: 0.1605\n"
     ]
    },
    {
     "data": {
      "text/plain": [
       "<keras.callbacks.History at 0x11a41ffd0>"
      ]
     },
     "execution_count": 55,
     "metadata": {},
     "output_type": "execute_result"
    }
   ],
   "source": [
    "(x_train, _), (x_test, _) = mnist.load_data()\n",
    "\n",
    "x_train = x_train.astype('float32') / 255.0\n",
    "x_test = x_test.astype('float32') / 255.0\n",
    "\n",
    "x_train = x_train.reshape((-1, 28*28))\n",
    "x_test = x_test.reshape((-1, 28*28))\n",
    "\n",
    "auto_encoder_fc.fit(x_train, x_train, epochs=4, batch_size=128, verbose=1, shuffle=True, \n",
    "                 validation_data=(x_test, x_test))"
   ]
  },
  {
   "cell_type": "code",
   "execution_count": 71,
   "metadata": {},
   "outputs": [
    {
     "name": "stdout",
     "output_type": "stream",
     "text": [
      "Train on 60000 samples, validate on 10000 samples\n",
      "Epoch 1/1\n",
      "60000/60000 [==============================] - 230s - loss: 0.1806 - val_loss: 0.1318\n"
     ]
    },
    {
     "data": {
      "text/plain": [
       "<keras.callbacks.History at 0x11ca4b208>"
      ]
     },
     "execution_count": 71,
     "metadata": {},
     "output_type": "execute_result"
    }
   ],
   "source": [
    "(x_train, _), (x_test, _) = mnist.load_data()\n",
    "\n",
    "x_train = x_train.astype('float32') / 255.0\n",
    "x_test = x_test.astype('float32') / 255.0\n",
    "\n",
    "x_train = x_train.reshape((-1, 28, 28, 1))\n",
    "x_test = x_test.reshape((-1, 28, 28, 1))\n",
    "\n",
    "auto_encoder_conv.fit(x_train, x_train, epochs=1, batch_size=128, verbose=1, shuffle=True, \n",
    "                 validation_data=(x_test, x_test))"
   ]
  },
  {
   "cell_type": "code",
   "execution_count": 74,
   "metadata": {},
   "outputs": [],
   "source": [
    "def draw(i, encoder, decoder):\n",
    "    img = x_test[i]\n",
    "    img_encoded = encoder.predict(np.expand_dims(img, axis=0))\n",
    "    img_decoded = decoder.predict(img_encoded)\n",
    "    \n",
    "    _, (ax1, ax2) = plt.subplots(1, 2)\n",
    "    ax1.imshow(img.reshape((28,28)))\n",
    "    ax2.imshow(img_decoded.reshape((28,28)))"
   ]
  },
  {
   "cell_type": "code",
   "execution_count": 57,
   "metadata": {},
   "outputs": [
    {
     "data": {
      "image/png": "[encoded data removed]",
      "text/plain": [
       "<matplotlib.figure.Figure at 0x118aece10>"
      ]
     },
     "metadata": {},
     "output_type": "display_data"
    },
    {
     "data": {
      "image/png": "[encoded data removed]",
      "text/plain": [
       "<matplotlib.figure.Figure at 0x11a7f6a90>"
      ]
     },
     "metadata": {},
     "output_type": "display_data"
    },
    {
     "data": {
      "image/png": "[encoded data removed]",
      "text/plain": [
       "<matplotlib.figure.Figure at 0x11aa64a20>"
      ]
     },
     "metadata": {},
     "output_type": "display_data"
    },
    {
     "data": {
      "image/png": "[encoded data removed]",
      "text/plain": [
       "<matplotlib.figure.Figure at 0x11a24b780>"
      ]
     },
     "metadata": {},
     "output_type": "display_data"
    }
   ],
   "source": [
    "for i in range(82, 86):\n",
    "    draw(i, encoder_fc, decoder_fc)"
   ]
  },
  {
   "cell_type": "code",
   "execution_count": 75,
   "metadata": {},
   "outputs": [
    {
     "data": {
      "image/png": "[encoded data removed]",
      "text/plain": [
       "<matplotlib.figure.Figure at 0x11d118ef0>"
      ]
     },
     "metadata": {},
     "output_type": "display_data"
    },
    {
     "data": {
      "image/png": "[encoded data removed]",
      "text/plain": [
       "<matplotlib.figure.Figure at 0x11d8724a8>"
      ]
     },
     "metadata": {},
     "output_type": "display_data"
    },
    {
     "data": {
      "image/png": "[encoded data removed]",
      "text/plain": [
       "<matplotlib.figure.Figure at 0x11d946b70>"
      ]
     },
     "metadata": {},
     "output_type": "display_data"
    },
    {
     "data": {
      "image/png": "[encoded data removed]",
      "text/plain": [
       "<matplotlib.figure.Figure at 0x11da1eb70>"
      ]
     },
     "metadata": {},
     "output_type": "display_data"
    }
   ],
   "source": [
    "for i in range(82, 86):\n",
    "    draw(i, encoder_conv, decoder_conv)"
   ]
  },
  {
   "cell_type": "code",
   "execution_count": null,
   "metadata": {
    "collapsed": true
   },
   "outputs": [],
   "source": []
  }
 ],
 "metadata": {
  "kernelspec": {
   "display_name": "Python 3",
   "language": "python",
   "name": "python3"
  },
  "language_info": {
   "codemirror_mode": {
    "name": "ipython",
    "version": 3
   },
   "file_extension": ".py",
   "mimetype": "text/x-python",
   "name": "python",
   "nbconvert_exporter": "python",
   "pygments_lexer": "ipython3",
   "version": "3.6.1"
  }
 },
 "nbformat": 4,
 "nbformat_minor": 2
}
